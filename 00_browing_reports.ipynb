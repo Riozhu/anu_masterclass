{
 "cells": [
  {
   "cell_type": "code",
   "execution_count": 25,
   "metadata": {
    "collapsed": true
   },
   "outputs": [],
   "source": [
    "import pymysql\n",
    "import pandas as pd\n",
    "import getpass\n",
    "from textblob import TextBlob\n",
    "from ipywidgets import interact, interactive, fixed\n",
    "import ipywidgets\n",
    "from IPython.display import display, HTML, Image, clear_output"
   ]
  },
  {
   "cell_type": "code",
   "execution_count": 14,
   "metadata": {},
   "outputs": [
    {
     "name": "stdout",
     "output_type": "stream",
     "text": [
      "Enter MySQL passwd for jovyan········\n"
     ]
    }
   ],
   "source": [
    "conn = pymysql.connect(host=\"mysql\",\n",
    "                       port=3306,user=\"jovyan\",\n",
    "                       passwd=getpass.getpass(\"Enter MySQL passwd for jovyan\"),db='mimic2')\n",
    "cursor = conn.cursor()"
   ]
  },
  {
   "cell_type": "markdown",
   "metadata": {},
   "source": [
    "### Use Pandas and SQL to create a dataframe with the following:\n",
    "* subject_id\n",
    "* hospital admission id\n",
    "* text of the radiology report\n",
    "* Limit the number of reports to 10000"
   ]
  },
  {
   "cell_type": "code",
   "execution_count": 15,
   "metadata": {},
   "outputs": [
    {
     "data": {
      "text/html": [
       "<div>\n",
       "<table border=\"1\" class=\"dataframe\">\n",
       "  <thead>\n",
       "    <tr style=\"text-align: right;\">\n",
       "      <th></th>\n",
       "      <th>subject_id</th>\n",
       "      <th>hadm_id</th>\n",
       "      <th>text</th>\n",
       "    </tr>\n",
       "  </thead>\n",
       "  <tbody>\n",
       "    <tr>\n",
       "      <th>0</th>\n",
       "      <td>56</td>\n",
       "      <td>28766.0</td>\n",
       "      <td>\\n\\n\\n     DATE: [**2644-1-17**] 10:53 AM\\n   ...</td>\n",
       "    </tr>\n",
       "    <tr>\n",
       "      <th>1</th>\n",
       "      <td>56</td>\n",
       "      <td>28766.0</td>\n",
       "      <td>\\n\\n\\n     DATE: [**2644-1-17**] 10:53 AM\\n   ...</td>\n",
       "    </tr>\n",
       "    <tr>\n",
       "      <th>2</th>\n",
       "      <td>56</td>\n",
       "      <td>28766.0</td>\n",
       "      <td>\\n\\n\\n     DATE: [**2644-1-17**] 10:43 AM\\n   ...</td>\n",
       "    </tr>\n",
       "    <tr>\n",
       "      <th>3</th>\n",
       "      <td>56</td>\n",
       "      <td>28766.0</td>\n",
       "      <td>\\n\\n\\n     DATE: [**2644-1-17**] 6:37 AM\\n    ...</td>\n",
       "    </tr>\n",
       "    <tr>\n",
       "      <th>4</th>\n",
       "      <td>56</td>\n",
       "      <td>28766.0</td>\n",
       "      <td>\\n\\n\\n     DATE: [**2644-1-19**] 12:09 PM\\n   ...</td>\n",
       "    </tr>\n",
       "  </tbody>\n",
       "</table>\n",
       "</div>"
      ],
      "text/plain": [
       "   subject_id  hadm_id                                               text\n",
       "0          56  28766.0  \\n\\n\\n     DATE: [**2644-1-17**] 10:53 AM\\n   ...\n",
       "1          56  28766.0  \\n\\n\\n     DATE: [**2644-1-17**] 10:53 AM\\n   ...\n",
       "2          56  28766.0  \\n\\n\\n     DATE: [**2644-1-17**] 10:43 AM\\n   ...\n",
       "3          56  28766.0  \\n\\n\\n     DATE: [**2644-1-17**] 6:37 AM\\n    ...\n",
       "4          56  28766.0  \\n\\n\\n     DATE: [**2644-1-19**] 12:09 PM\\n   ..."
      ]
     },
     "execution_count": 15,
     "metadata": {},
     "output_type": "execute_result"
    }
   ],
   "source": [
    "rad_data = \\\n",
    "pd.read_sql(\"\"\"SELECT noteevents.subject_id, \n",
    "                      noteevents.hadm_id,\n",
    "                      noteevents.text \n",
    "               FROM noteevents\n",
    "               WHERE noteevents.category = 'RADIOLOGY_REPORT'\"\"\",conn)\n",
    "rad_data.head(5)"
   ]
  },
  {
   "cell_type": "code",
   "execution_count": 34,
   "metadata": {},
   "outputs": [
    {
     "name": "stdout",
     "output_type": "stream",
     "text": [
      "20552\n"
     ]
    }
   ],
   "source": [
    "rad_data = rad_data[rad_data.text.str.contains(\"chest\")]\n",
    "print(len(rad_data))"
   ]
  },
  {
   "cell_type": "code",
   "execution_count": 35,
   "metadata": {
    "collapsed": true
   },
   "outputs": [],
   "source": [
    "def view_reports(anno_docs):\n",
    "    @interact(i=ipywidgets.IntSlider(min=0, max=len(anno_docs)-1))\n",
    "    def _view_markup(i):\n",
    "        clear_output()\n",
    "        #report_html = pneumonia_annotation_html_markup(anno_docs[i])\n",
    "        #report_html = report_html.replace('\\n', '<br>')\n",
    "        print(anno_docs.iloc[i][\"text\"])"
   ]
  },
  {
   "cell_type": "code",
   "execution_count": 36,
   "metadata": {},
   "outputs": [
    {
     "data": {
      "application/vnd.jupyter.widget-view+json": {
       "model_id": "7c3f424d976d45e0aef45da56608aac0"
      }
     },
     "metadata": {},
     "output_type": "display_data"
    }
   ],
   "source": [
    "view_reports(rad_data)"
   ]
  },
  {
   "cell_type": "code",
   "execution_count": 14,
   "metadata": {
    "collapsed": true
   },
   "outputs": [],
   "source": [
    "imp_reports = [row[\"text\"] for _, row in rad_data.iterrows() if \"IMPRESSION:\" in row['text'] and \n",
    "                                                                \"COMPARISON:\" in row[\"text\"] and\n",
    "                                                                \"TECHNIQUE:\" in row['text'] and \n",
    "                                                                \"FINDINGS:\" in row['text'] and\n",
    "                                                                \"HISTORY:\" in row[\"text\"]]"
   ]
  },
  {
   "cell_type": "code",
   "execution_count": 15,
   "metadata": {},
   "outputs": [
    {
     "name": "stdout",
     "output_type": "stream",
     "text": [
      "\n",
      "\n",
      "\n",
      "     DATE: [**3352-12-14**] 12:53 PM\n",
      "     MR HEAD W & W/O CONTRAST; MR CONTRAST GADOLIN                   Clip # [**Clip Number (Radiology) 1656**]\n",
      "     Reason: please evaluate brain, midbrain, brainstem for cn lesions es\n",
      "     Admitting Diagnosis: NON-HODGKIN'S LYMPHOMA;NEUTROPENIC;FEVER\n",
      "      Contrast: MAGNEVIST Amt: 17\n",
      "     ______________________________________________________________________________\n",
      "     UNDERLYING MEDICAL CONDITION:\n",
      "      55 year old man with h/o EATL s/p auto bmt with recent right facial droop and \n",
      "      new double vision right [**Hospital Unit Name 626**]\n",
      "     REASON FOR THIS EXAMINATION:\n",
      "      please evaluate brain, midbrain, brainstem for cn lesions especially 6          \n",
      "     ______________________________________________________________________________\n",
      "                                     FINAL REPORT\n",
      "     HISTORY:  55-year-old man with history of T-cell lymphoma with recent right\n",
      "     facial droop and new right-sided double vision.\n",
      "     \n",
      "     COMPARISON:  [**3352-11-25**].\n",
      "     \n",
      "     TECHNIQUE:  Multiplanar pre and post-gadolinium contrast images of the brain\n",
      "     were obtained.  Diffusion weighted images also obtained.\n",
      "     \n",
      "     FINDINGS:  There are no areas of abnormal signal intensity on the diffusion\n",
      "     weighted images to indicate acute stroke.  No enhancing lesions are\n",
      "     identified.  There are no areas of abnormal susceptibility.  There is slightly\n",
      "     increased signal seen in the mastoid air cells left greater than right on the\n",
      "     T2 weighted images suggesting mastoid sinus disease.\n",
      "     \n",
      "     IMPRESSION:  1)  No areas of abnormal diffusion to indicate acute stroke.  No\n",
      "     enhancing lesions are identified.\n",
      "     2)  Mastoid sinus disease, left greater than right.\n",
      "\n",
      "\n"
     ]
    }
   ],
   "source": [
    "print(imp_reports[1])"
   ]
  },
  {
   "cell_type": "code",
   "execution_count": null,
   "metadata": {
    "collapsed": true
   },
   "outputs": [],
   "source": []
  }
 ],
 "metadata": {
  "kernelspec": {
   "display_name": "Python 3",
   "language": "python",
   "name": "python3"
  },
  "language_info": {
   "codemirror_mode": {
    "name": "ipython",
    "version": 3
   },
   "file_extension": ".py",
   "mimetype": "text/x-python",
   "name": "python",
   "nbconvert_exporter": "python",
   "pygments_lexer": "ipython3",
   "version": "3.5.2"
  }
 },
 "nbformat": 4,
 "nbformat_minor": 1
}
